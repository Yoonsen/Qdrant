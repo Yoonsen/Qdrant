{
 "cells": [
  {
   "cell_type": "code",
   "execution_count": 2,
   "id": "01876ee8-2561-4967-bc1c-fdc39ac71471",
   "metadata": {},
   "outputs": [],
   "source": [
    "#pip install qdrant_client\n"
   ]
  },
  {
   "cell_type": "code",
   "execution_count": 1,
   "id": "a06670cc-0ff1-4260-8a85-884d75fcae72",
   "metadata": {},
   "outputs": [],
   "source": [
    "import numpy as np"
   ]
  },
  {
   "cell_type": "code",
   "execution_count": 2,
   "id": "0710cf5c-a4b5-49db-8691-eae07de6226b",
   "metadata": {},
   "outputs": [],
   "source": [
    "from qdrant_client import QdrantClient\n",
    "from qdrant_client.models import PointStruct\n",
    "from qdrant_client.http import models\n",
    "\n",
    "from qdrant_client import QdrantClient\n",
    "from qdrant_client.http.models import CollectionDescription, VectorParams, Distance\n",
    "\n",
    "client = QdrantClient(host=\"sprakbankdb1.lx.nb.no\", port=6333)\n"
   ]
  },
  {
   "cell_type": "code",
   "execution_count": 3,
   "id": "e3cd6867-d240-45ca-b082-a7ddc28ae8d3",
   "metadata": {},
   "outputs": [],
   "source": [
    "import sqlite3"
   ]
  },
  {
   "cell_type": "code",
   "execution_count": 9,
   "id": "338da225-741c-4fdf-b656-33b8930d476b",
   "metadata": {},
   "outputs": [],
   "source": [
    "db = \"../Bildevektor/all_images.db\""
   ]
  },
  {
   "cell_type": "code",
   "execution_count": 10,
   "id": "c8a50828-aa95-4767-b6fc-7597bc5a7343",
   "metadata": {},
   "outputs": [],
   "source": [
    "collection_name = \"images_1900_cos\""
   ]
  },
  {
   "cell_type": "code",
   "execution_count": 11,
   "id": "505d1fa5-0174-4d7f-bd93-477d665344c0",
   "metadata": {},
   "outputs": [
    {
     "name": "stdout",
     "output_type": "stream",
     "text": [
      "Collection 'images_1900_cos' successfully created.\n"
     ]
    }
   ],
   "source": [
    "\n",
    "\n",
    "\n",
    "# Collection configuration\n",
    "vector_dimension = 512  # Replace with your vectors' dimension\n",
    "distance_metric = Distance.COSINE  # The distance metric for the vector space (COSINE, EUCLIDEAN, etc.)\n",
    "\n",
    "# Attempt to create the collection with the correct vectors configuration\n",
    "try:\n",
    "    client.create_collection(\n",
    "        collection_name=collection_name,\n",
    "        vectors_config=VectorParams(\n",
    "            size=vector_dimension,\n",
    "            distance=distance_metric,\n",
    "        )\n",
    "    )\n",
    "    print(f\"Collection '{collection_name}' successfully created.\")\n",
    "except Exception as e:\n",
    "    print(f\"An error occurred: {e}\")\n"
   ]
  },
  {
   "cell_type": "code",
   "execution_count": 12,
   "id": "dc6b4db9-d683-41a6-af80-c677ad43d6b8",
   "metadata": {},
   "outputs": [],
   "source": [
    "def query(db, sql, params=()):\n",
    "    with sqlite3.connect(db) as con:\n",
    "        r = con.execute(sql, params).fetchall()\n",
    "    return r"
   ]
  },
  {
   "cell_type": "code",
   "execution_count": 15,
   "id": "eec4dff6-257e-4c86-98ba-da654bfd3264",
   "metadata": {},
   "outputs": [],
   "source": [
    "res = query(db, \"select * from metadata limit 2\")"
   ]
  },
  {
   "cell_type": "code",
   "execution_count": 25,
   "id": "398c043f-0798-4576-93cf-1b0354b41888",
   "metadata": {},
   "outputs": [
    {
     "data": {
      "text/plain": [
       "'120,9,2298,3036'"
      ]
     },
     "execution_count": 25,
     "metadata": {},
     "output_type": "execute_result"
    }
   ],
   "source": [
    "res[0][1].split('/')[6]\n",
    "res[0][1].split('/')[7]"
   ]
  },
  {
   "cell_type": "code",
   "execution_count": 26,
   "id": "0c8cf048-4be8-4f0d-87b0-3d72065d8e33",
   "metadata": {},
   "outputs": [
    {
     "name": "stdout",
     "output_type": "stream",
     "text": [
      "CPU times: user 2min 22s, sys: 11.7 s, total: 2min 34s\n",
      "Wall time: 7min 10s\n"
     ]
    }
   ],
   "source": [
    "%%time\n",
    "def fetch_data_from_sqlite(db, batch_size=100):\n",
    "    offset = 0\n",
    "    while True:\n",
    "        with sqlite3.connect(db) as con:\n",
    "            sql = \"SELECT rowid, * FROM words ORDER BY rowid LIMIT ? OFFSET ?\"\n",
    "            batch = con.execute(sql, (batch_size, offset)).fetchall()\n",
    "        if not batch:\n",
    "            break\n",
    "        yield batch\n",
    "        offset += len(batch)  # Ensure the offset increases by the actual number of rows fetched\n",
    "\n",
    "def fetch_images_from_sqlite(db, batch_size=100):\n",
    "    offset = 0\n",
    "    while True:\n",
    "        with sqlite3.connect(db) as con:\n",
    "            sql = \"SELECT * FROM metadata ORDER BY rowid LIMIT ? OFFSET ?\"\n",
    "            batch = con.execute(sql, (batch_size, offset)).fetchall()\n",
    "        if not batch:\n",
    "            break\n",
    "        yield batch\n",
    "        offset += len(batch)  # Ensure the offset increases by the actual number of rows fetched\n",
    "\n",
    "def convert_vector(binary_vector):\n",
    "    # Assuming binary_vector is a blob from SQLite, convert it to a list\n",
    "    return np.frombuffer(binary_vector, dtype=np.float32).tolist()\n",
    "\n",
    "for batch in fetch_images_from_sqlite(db=db, batch_size=100):\n",
    "    # Use list comprehension to construct PointStruct objects for each record in the batch\n",
    "    points = [\n",
    "        PointStruct(\n",
    "            id=record[0],  # Assuming record[0] is the rowid\n",
    "            vector=convert_vector(record[2]),  # Assuming record[2] is the binary vector\n",
    "            payload={\"url\": record[1], \"urn\":record[1].split('/')[6], \"coord\":record[1].split('/')[7]}  # Assuming record[1] is the word\n",
    "        )\n",
    "        for record in batch\n",
    "    ]\n",
    "\n",
    "    # Use upsert method to insert or update points in Qdrant\n",
    "    client.upsert(\n",
    "        collection_name=collection_name,\n",
    "        points=points\n",
    "    )"
   ]
  },
  {
   "cell_type": "code",
   "execution_count": null,
   "id": "ddc4ef16-dd30-4e72-b684-b70a1b12e901",
   "metadata": {},
   "outputs": [],
   "source": []
  }
 ],
 "metadata": {
  "kernelspec": {
   "display_name": "Python 3 (ipykernel)",
   "language": "python",
   "name": "python3"
  },
  "language_info": {
   "codemirror_mode": {
    "name": "ipython",
    "version": 3
   },
   "file_extension": ".py",
   "mimetype": "text/x-python",
   "name": "python",
   "nbconvert_exporter": "python",
   "pygments_lexer": "ipython3",
   "version": "3.11.5"
  }
 },
 "nbformat": 4,
 "nbformat_minor": 5
}
