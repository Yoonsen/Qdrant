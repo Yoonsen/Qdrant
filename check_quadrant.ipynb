{
 "cells": [
  {
   "cell_type": "code",
   "execution_count": 58,
   "id": "9defb65e-119b-414d-aa84-85f2deadfae5",
   "metadata": {},
   "outputs": [],
   "source": [
    "import pandas as pd\n",
    "import qdrant_access as qd\n",
    "import dhlab.api.dhlab_api as api\n",
    "import dhlab as dh"
   ]
  },
  {
   "cell_type": "code",
   "execution_count": 38,
   "id": "20a28610-13fc-40a0-b161-69372951d858",
   "metadata": {},
   "outputs": [],
   "source": [
    "from importlib import reload"
   ]
  },
  {
   "cell_type": "code",
   "execution_count": 145,
   "id": "d6c4dc7e-b2ff-4efe-b086-3818eba8ab1e",
   "metadata": {},
   "outputs": [
    {
     "data": {
      "text/plain": [
       "<module 'qdrant_access' from '/mnt/disk1/Github/Qdrant_app/qdrant_access.py'>"
      ]
     },
     "execution_count": 145,
     "metadata": {},
     "output_type": "execute_result"
    }
   ],
   "source": [
    "reload(qd)"
   ]
  },
  {
   "cell_type": "code",
   "execution_count": 4,
   "id": "8e303aef-decb-4a88-85b8-203e18561561",
   "metadata": {},
   "outputs": [
    {
     "data": {
      "text/plain": [
       "['vss_1850_cos',\n",
       " 'vss_dewey_code',\n",
       " 'vss_1800_cos',\n",
       " 'vss_dewey',\n",
       " 'images_1900_cos']"
      ]
     },
     "execution_count": 4,
     "metadata": {},
     "output_type": "execute_result"
    }
   ],
   "source": [
    "qd.show_collections(qd.client)"
   ]
  },
  {
   "cell_type": "code",
   "execution_count": 144,
   "id": "6d89c104-2754-4640-b3fe-b01aca1175b7",
   "metadata": {},
   "outputs": [
    {
     "data": {
      "text/plain": [
       "[('Abel', 1.0),\n",
       " ('Cain', 0.78520876),\n",
       " ('Kain', 0.748604),\n",
       " ('Jakob', 0.7472355),\n",
       " ('Jacob', 0.6769447),\n",
       " ('Isak', 0.6736441),\n",
       " ('Isaak', 0.6702534),\n",
       " ('Eva', 0.6664775),\n",
       " ('Asa', 0.6542754),\n",
       " ('Esan', 0.6500757)]"
      ]
     },
     "execution_count": 144,
     "metadata": {},
     "output_type": "execute_result"
    }
   ],
   "source": [
    "qd.find_similar_words(qd.client, \"Abel\", collection_name=\"vss_1800_cos\")"
   ]
  },
  {
   "cell_type": "code",
   "execution_count": 51,
   "id": "d430d3d1-13e9-4afd-a197-f4a3aa6345a2",
   "metadata": {},
   "outputs": [
    {
     "data": {
      "text/plain": [
       "['https://www.nb.no/services/image/resolver/URN:NBN:no-nb_digibok_2006120800072_0477/full/0,False/0/native.jpg',\n",
       " 'https://www.nb.no/services/image/resolver/URN:NBN:no-nb_digibok_2017051248072_0075/full/0,False/0/native.jpg',\n",
       " 'https://www.nb.no/services/image/resolver/URN:NBN:no-nb_digibok_2012032212002_0007/full/0,False/0/native.jpg',\n",
       " 'https://www.nb.no/services/image/resolver/URN:NBN:no-nb_digibok_2009021803022_0469/full/0,False/0/native.jpg',\n",
       " 'https://www.nb.no/services/image/resolver/URN:NBN:no-nb_digibok_2017051248072_0007/full/0,False/0/native.jpg',\n",
       " 'https://www.nb.no/services/image/resolver/URN:NBN:no-nb_digibok_2017051248072_0008/full/0,False/0/native.jpg',\n",
       " 'https://www.nb.no/services/image/resolver/URN:NBN:no-nb_digibok_2006112001065_0425/full/0,False/0/native.jpg',\n",
       " 'https://www.nb.no/services/image/resolver/URN:NBN:no-nb_digibok_2014061108167_0206/full/0,False/0/native.jpg',\n",
       " 'https://www.nb.no/services/image/resolver/URN:NBN:no-nb_digibok_2009042204094_0181/full/0,False/0/native.jpg',\n",
       " 'https://www.nb.no/services/image/resolver/URN:NBN:no-nb_digibok_2009042204094_0181/full/0,False/0/native.jpg',\n",
       " 'https://www.nb.no/services/image/resolver/URN:NBN:no-nb_digibok_2009042204094_0181/full/0,False/0/native.jpg',\n",
       " 'https://www.nb.no/services/image/resolver/URN:NBN:no-nb_digibok_2014031808030_0239/full/0,False/0/native.jpg',\n",
       " 'https://www.nb.no/services/image/resolver/URN:NBN:no-nb_digibok_2014031808030_0239/full/0,False/0/native.jpg',\n",
       " 'https://www.nb.no/services/image/resolver/URN:NBN:no-nb_digibok_2011050604113_0381/full/0,False/0/native.jpg',\n",
       " 'https://www.nb.no/services/image/resolver/URN:NBN:no-nb_digibok_2016041548004_0176/full/0,False/0/native.jpg',\n",
       " 'https://www.nb.no/services/image/resolver/URN:NBN:no-nb_digibok_2017051248072_0070/full/0,False/0/native.jpg',\n",
       " 'https://www.nb.no/services/image/resolver/URN:NBN:no-nb_digibok_2016112129003_0150/full/0,False/0/native.jpg',\n",
       " 'https://www.nb.no/services/image/resolver/URN:NBN:no-nb_digibok_2016112129003_0150/full/0,False/0/native.jpg',\n",
       " 'https://www.nb.no/services/image/resolver/URN:NBN:no-nb_digibok_2006120800072_0458/full/0,False/0/native.jpg',\n",
       " 'https://www.nb.no/services/image/resolver/URN:NBN:no-nb_digibok_2007070504067_0057/full/0,False/0/native.jpg',\n",
       " 'https://www.nb.no/services/image/resolver/URN:NBN:no-nb_digibok_2006082100008_0032/full/0,False/0/native.jpg',\n",
       " 'https://www.nb.no/services/image/resolver/URN:NBN:no-nb_digibok_2009052603029_0087/full/0,False/0/native.jpg',\n",
       " 'https://www.nb.no/services/image/resolver/URN:NBN:no-nb_digibok_2006112001065_0419/full/0,False/0/native.jpg',\n",
       " 'https://www.nb.no/services/image/resolver/URN:NBN:no-nb_digibok_2016112127002_0260/full/0,False/0/native.jpg',\n",
       " 'https://www.nb.no/services/image/resolver/URN:NBN:no-nb_digibok_2017110108031_0051/full/0,False/0/native.jpg',\n",
       " 'https://www.nb.no/services/image/resolver/URN:NBN:no-nb_digibok_2017050948060_0260/full/0,False/0/native.jpg',\n",
       " 'https://www.nb.no/services/image/resolver/URN:NBN:no-nb_digibok_2006112001065_0159/full/0,False/0/native.jpg',\n",
       " 'https://www.nb.no/services/image/resolver/URN:NBN:no-nb_digibok_2006112001065_0423/full/0,False/0/native.jpg',\n",
       " 'https://www.nb.no/services/image/resolver/URN:NBN:no-nb_digibok_2006120800008_0007/full/0,False/0/native.jpg',\n",
       " 'https://www.nb.no/services/image/resolver/URN:NBN:no-nb_digibok_2009081903002_0111/full/0,False/0/native.jpg',\n",
       " 'https://www.nb.no/services/image/resolver/URN:NBN:no-nb_digibok_2006120800072_0475/full/0,False/0/native.jpg',\n",
       " 'https://www.nb.no/services/image/resolver/URN:NBN:no-nb_digibok_2009020500065_0209/full/0,False/0/native.jpg',\n",
       " 'https://www.nb.no/services/image/resolver/URN:NBN:no-nb_digibok_2015021048027_0794/full/0,False/0/native.jpg',\n",
       " 'https://www.nb.no/services/image/resolver/URN:NBN:no-nb_digibok_2014052108172_0056/full/0,False/0/native.jpg',\n",
       " 'https://www.nb.no/services/image/resolver/URN:NBN:no-nb_digibok_2010070206086_0121/full/0,False/0/native.jpg',\n",
       " 'https://www.nb.no/services/image/resolver/URN:NBN:no-nb_digibok_2010052606077_0110/full/0,False/0/native.jpg',\n",
       " 'https://www.nb.no/services/image/resolver/URN:NBN:no-nb_digibok_2016041548004_0175/full/0,False/0/native.jpg',\n",
       " 'https://www.nb.no/services/image/resolver/URN:NBN:no-nb_digibok_2014092308016_0101/full/0,False/0/native.jpg',\n",
       " 'https://www.nb.no/services/image/resolver/URN:NBN:no-nb_digibok_2011050604113_0384/full/0,False/0/native.jpg',\n",
       " 'https://www.nb.no/services/image/resolver/URN:NBN:no-nb_digibok_2010070806012_0166/full/0,False/0/native.jpg',\n",
       " 'https://www.nb.no/services/image/resolver/URN:NBN:no-nb_digibok_2011053104133_0166/full/0,False/0/native.jpg',\n",
       " 'https://www.nb.no/services/image/resolver/URN:NBN:no-nb_digibok_2011050604113_0383/full/0,False/0/native.jpg',\n",
       " 'https://www.nb.no/services/image/resolver/URN:NBN:no-nb_digibok_2008040904006_0280/full/0,False/0/native.jpg',\n",
       " 'https://www.nb.no/services/image/resolver/URN:NBN:no-nb_digibok_2011060308016_0290/full/0,False/0/native.jpg',\n",
       " 'https://www.nb.no/services/image/resolver/URN:NBN:no-nb_digibok_2011050604113_0372/full/0,False/0/native.jpg',\n",
       " 'https://www.nb.no/services/image/resolver/URN:NBN:no-nb_digibok_2010011103019_0284/full/0,False/0/native.jpg',\n",
       " 'https://www.nb.no/services/image/resolver/URN:NBN:no-nb_digibok_2017051148115_0064/full/0,False/0/native.jpg',\n",
       " 'https://www.nb.no/services/image/resolver/URN:NBN:no-nb_digibok_2015030308036_0267/full/0,False/0/native.jpg',\n",
       " 'https://www.nb.no/services/image/resolver/URN:NBN:no-nb_digibok_2018011526005_0041/full/0,False/0/native.jpg',\n",
       " 'https://www.nb.no/services/image/resolver/URN:NBN:no-nb_digibok_2009103000092_0120/full/0,False/0/native.jpg',\n",
       " 'https://www.nb.no/services/image/resolver/URN:NBN:no-nb_digibok_2006120800072_0528/full/0,False/0/native.jpg',\n",
       " 'https://www.nb.no/services/image/resolver/URN:NBN:no-nb_digibok_2013102308098_0117/full/0,False/0/native.jpg',\n",
       " 'https://www.nb.no/services/image/resolver/URN:NBN:no-nb_digibok_2013102308098_0117/full/0,False/0/native.jpg',\n",
       " 'https://www.nb.no/services/image/resolver/URN:NBN:no-nb_digibok_2006121100023_0106/full/0,False/0/native.jpg',\n",
       " 'https://www.nb.no/services/image/resolver/URN:NBN:no-nb_digibok_2006120800072_0471/full/0,False/0/native.jpg',\n",
       " 'https://www.nb.no/services/image/resolver/URN:NBN:no-nb_digibok_2013102308098_0116/full/0,False/0/native.jpg',\n",
       " 'https://www.nb.no/services/image/resolver/URN:NBN:no-nb_digibok_2013102308098_0116/full/0,False/0/native.jpg',\n",
       " 'https://www.nb.no/services/image/resolver/URN:NBN:no-nb_digibok_2014111808050_0410/full/0,False/0/native.jpg',\n",
       " 'https://www.nb.no/services/image/resolver/URN:NBN:no-nb_digibok_2013102308098_0112/full/0,False/0/native.jpg',\n",
       " 'https://www.nb.no/services/image/resolver/URN:NBN:no-nb_digibok_2013102308098_0112/full/0,False/0/native.jpg',\n",
       " 'https://www.nb.no/services/image/resolver/URN:NBN:no-nb_digibok_2010032303034_0111/full/0,False/0/native.jpg',\n",
       " 'https://www.nb.no/services/image/resolver/URN:NBN:no-nb_digibok_2008040204011_0177/full/0,False/0/native.jpg',\n",
       " 'https://www.nb.no/services/image/resolver/URN:NBN:no-nb_digibok_2008040204011_0177/full/0,False/0/native.jpg',\n",
       " 'https://www.nb.no/services/image/resolver/URN:NBN:no-nb_digibok_2008040804009_0077/full/0,False/0/native.jpg',\n",
       " 'https://www.nb.no/services/image/resolver/URN:NBN:no-nb_digibok_2008040804012_0168/full/0,False/0/native.jpg',\n",
       " 'https://www.nb.no/services/image/resolver/URN:NBN:no-nb_digibok_2011072920008_0172/full/0,False/0/native.jpg',\n",
       " 'https://www.nb.no/services/image/resolver/URN:NBN:no-nb_digibok_2008040204011_0778/full/0,False/0/native.jpg',\n",
       " 'https://www.nb.no/services/image/resolver/URN:NBN:no-nb_digibok_2011071420001_0170/full/0,False/0/native.jpg',\n",
       " 'https://www.nb.no/services/image/resolver/URN:NBN:no-nb_digibok_2018030107033_0673/full/0,False/0/native.jpg',\n",
       " 'https://www.nb.no/services/image/resolver/URN:NBN:no-nb_digibok_2008040804013_0175/full/0,False/0/native.jpg',\n",
       " 'https://www.nb.no/services/image/resolver/URN:NBN:no-nb_digibok_2011071320002_0179/full/0,False/0/native.jpg',\n",
       " 'https://www.nb.no/services/image/resolver/URN:NBN:no-nb_digibok_2008040204011_0813/full/0,False/0/native.jpg',\n",
       " 'https://www.nb.no/services/image/resolver/URN:NBN:no-nb_digibok_2008040804013_0205/full/0,False/0/native.jpg',\n",
       " 'https://www.nb.no/services/image/resolver/URN:NBN:no-nb_digibok_2011071320002_0209/full/0,False/0/native.jpg',\n",
       " 'https://www.nb.no/services/image/resolver/URN:NBN:no-nb_digibok_2008040904008_0071/full/0,False/0/native.jpg']"
      ]
     },
     "execution_count": 51,
     "metadata": {},
     "output_type": "execute_result"
    }
   ],
   "source": [
    "api.images(text=\"hottentotterne\", part=False)"
   ]
  },
  {
   "cell_type": "code",
   "execution_count": 116,
   "id": "8a94b95f-e36a-4f56-ae37-f055a69fe794",
   "metadata": {},
   "outputs": [],
   "source": [
    "iiif, urn = qd.fetch_meta(\"'URN:NBN:no-nb_digibok_2015021048027_0453\")"
   ]
  },
  {
   "cell_type": "code",
   "execution_count": 117,
   "id": "3d65b0d3-23b5-4c36-bad7-3d94f87df685",
   "metadata": {},
   "outputs": [
    {
     "data": {
      "text/plain": [
       "'URN:NBN:no-nb_digibok_2015021048027_0453'"
      ]
     },
     "execution_count": 117,
     "metadata": {},
     "output_type": "execute_result"
    }
   ],
   "source": [
    "urn"
   ]
  },
  {
   "cell_type": "code",
   "execution_count": 118,
   "id": "38461504-7b8e-4d3c-9213-aa002d7255e9",
   "metadata": {},
   "outputs": [
    {
     "data": {
      "text/html": [
       "<style type=\"text/css\">\n",
       "</style>\n",
       "<table id=\"T_99377\">\n",
       "  <thead>\n",
       "    <tr>\n",
       "      <th class=\"blank level0\" >&nbsp;</th>\n",
       "      <th id=\"T_99377_level0_col0\" class=\"col_heading level0 col0\" >label</th>\n",
       "      <th id=\"T_99377_level0_col1\" class=\"col_heading level0 col1\" >value</th>\n",
       "    </tr>\n",
       "  </thead>\n",
       "  <tbody>\n",
       "    <tr>\n",
       "      <th id=\"T_99377_level0_row0\" class=\"row_heading level0 row0\" >0</th>\n",
       "      <td id=\"T_99377_row0_col0\" class=\"data row0 col0\" >Tilgang</td>\n",
       "      <td id=\"T_99377_row0_col1\" class=\"data row0 col1\" >Tilgang for alle</td>\n",
       "    </tr>\n",
       "    <tr>\n",
       "      <th id=\"T_99377_level0_row1\" class=\"row_heading level0 row1\" >1</th>\n",
       "      <td id=\"T_99377_row1_col0\" class=\"data row1 col0\" >Tittel</td>\n",
       "      <td id=\"T_99377_row1_col1\" class=\"data row1 col1\" >Fuglenes Liv : Populært fremstillet</td>\n",
       "    </tr>\n",
       "    <tr>\n",
       "      <th id=\"T_99377_level0_row2\" class=\"row_heading level0 row2\" >2</th>\n",
       "      <td id=\"T_99377_row2_col0\" class=\"data row2 col0\" >Forfatter</td>\n",
       "      <td id=\"T_99377_row2_col1\" class=\"data row2 col1\" >Brehm, A.E.</td>\n",
       "    </tr>\n",
       "    <tr>\n",
       "      <th id=\"T_99377_level0_row3\" class=\"row_heading level0 row3\" >3</th>\n",
       "      <td id=\"T_99377_row3_col0\" class=\"data row3 col0\" >Medforfatter/Bidragsyter</td>\n",
       "      <td id=\"T_99377_row3_col1\" class=\"data row3 col1\" >Mariager, P. | Mariager, P.</td>\n",
       "    </tr>\n",
       "    <tr>\n",
       "      <th id=\"T_99377_level0_row4\" class=\"row_heading level0 row4\" >4</th>\n",
       "      <td id=\"T_99377_row4_col0\" class=\"data row4 col0\" >Publisert</td>\n",
       "      <td id=\"T_99377_row4_col1\" class=\"data row4 col1\" >xx:P.G. Philipsen, 1876</td>\n",
       "    </tr>\n",
       "    <tr>\n",
       "      <th id=\"T_99377_level0_row5\" class=\"row_heading level0 row5\" >5</th>\n",
       "      <td id=\"T_99377_row5_col0\" class=\"data row5 col0\" >Emne</td>\n",
       "      <td id=\"T_99377_row5_col1\" class=\"data row5 col1\" >Fugler | fugler</td>\n",
       "    </tr>\n",
       "    <tr>\n",
       "      <th id=\"T_99377_level0_row6\" class=\"row_heading level0 row6\" >6</th>\n",
       "      <td id=\"T_99377_row6_col0\" class=\"data row6 col0\" >Andre opplysninger</td>\n",
       "      <td id=\"T_99377_row6_col1\" class=\"data row6 col1\" >Elektronisk reproduksjon [Norge] Nasjonalbiblioteket Digital 2015-04-18\n",
       "</td>\n",
       "    </tr>\n",
       "    <tr>\n",
       "      <th id=\"T_99377_level0_row7\" class=\"row_heading level0 row7\" >7</th>\n",
       "      <td id=\"T_99377_row7_col0\" class=\"data row7 col0\" >Språk</td>\n",
       "      <td id=\"T_99377_row7_col1\" class=\"data row7 col1\" >Dansk</td>\n",
       "    </tr>\n",
       "    <tr>\n",
       "      <th id=\"T_99377_level0_row8\" class=\"row_heading level0 row8\" >8</th>\n",
       "      <td id=\"T_99377_row8_col0\" class=\"data row8 col0\" >Kilde for metadata</td>\n",
       "      <td id=\"T_99377_row8_col1\" class=\"data row8 col1\" >nb.bibsys.no (<a title=\"Link til post i Oria\" href=\"https://www.oria.no/?vid=NB&search=999523573644702202\">999523573644702202</a>)</td>\n",
       "    </tr>\n",
       "    <tr>\n",
       "      <th id=\"T_99377_level0_row9\" class=\"row_heading level0 row9\" >9</th>\n",
       "      <td id=\"T_99377_row9_col0\" class=\"data row9 col0\" >Omfang</td>\n",
       "      <td id=\"T_99377_row9_col1\" class=\"data row9 col1\" >758 s. ill.</td>\n",
       "    </tr>\n",
       "    <tr>\n",
       "      <th id=\"T_99377_level0_row10\" class=\"row_heading level0 row10\" >10</th>\n",
       "      <td id=\"T_99377_row10_col0\" class=\"data row10 col0\" >Medietype</td>\n",
       "      <td id=\"T_99377_row10_col1\" class=\"data row10 col1\" >Bøker</td>\n",
       "    </tr>\n",
       "    <tr>\n",
       "      <th id=\"T_99377_level0_row11\" class=\"row_heading level0 row11\" >11</th>\n",
       "      <td id=\"T_99377_row11_col0\" class=\"data row11 col0\" >Varig lenke</td>\n",
       "      <td id=\"T_99377_row11_col1\" class=\"data row11 col1\" ><a href=\"https://urn.nb.no/URN:NBN:no-nb_digibok_2015021048027\" target=\"_blank\">https://urn.nb.no/URN:NBN:no-nb_digibok_2015021048027</a></td>\n",
       "    </tr>\n",
       "    <tr>\n",
       "      <th id=\"T_99377_level0_row12\" class=\"row_heading level0 row12\" >12</th>\n",
       "      <td id=\"T_99377_row12_col0\" class=\"data row12 col0\" ></td>\n",
       "      <td id=\"T_99377_row12_col1\" class=\"data row12 col1\" ><a href=\"https://www.nb.no/items/59bc8ac8495ea40b774737b9e6b9cc71?manifest=https://api.nb.no/catalog/v1/iiif/59bc8ac8495ea40b774737b9e6b9cc71/manifest\" target=\"_blank\"><img src=\"https://www.nb.no/content/uploads/2018/08/logo-iiif.png\" alt=\"IIIF Drag-n-drop\"></a></td>\n",
       "    </tr>\n",
       "  </tbody>\n",
       "</table>\n"
      ],
      "text/plain": [
       "<pandas.io.formats.style.Styler at 0x7f71a5c292d0>"
      ]
     },
     "execution_count": 118,
     "metadata": {},
     "output_type": "execute_result"
    }
   ],
   "source": [
    "pd.DataFrame(iiif).style"
   ]
  },
  {
   "cell_type": "code",
   "execution_count": 119,
   "id": "0e28dd86-439e-489f-afb4-7d3999afcd0e",
   "metadata": {},
   "outputs": [
    {
     "data": {
      "text/plain": [
       "['https://www.nb.no/services/image/resolver/URN:NBN:no-nb_digibok_2015021048027_0453/63,428,1926,1736/481,433/0/default.jpg']"
      ]
     },
     "execution_count": 119,
     "metadata": {},
     "output_type": "execute_result"
    }
   ],
   "source": [
    "qd.find_images_by_identifier(qd.client, f'{urn}', key=\"urn\", collection_name=\"images_1900_cos\")"
   ]
  },
  {
   "cell_type": "code",
   "execution_count": 122,
   "id": "698e25b8-90b0-4804-831a-c94f30c0f880",
   "metadata": {},
   "outputs": [],
   "source": [
    "def search_images_fulltext(fulltext, hits):\n",
    "    return {r[0]:qd.find_images_by_identifier(qd.client, f'URN:NBN:no-nb_{r[0]}', key='urn', collection_name = \"images_1900_cos\") for r in query(\"pages_to_images.db\", \"select urn from text2image where text match ? order by rank limit ?\", (fulltext, hits))}"
   ]
  },
  {
   "cell_type": "code",
   "execution_count": 128,
   "id": "a9f85648-c896-4624-8a17-2c32bcb24437",
   "metadata": {},
   "outputs": [
    {
     "data": {
      "text/plain": [
       "{'digibok_2008040200080_0225': ['https://www.nb.no/services/image/resolver/URN:NBN:no-nb_digibok_2008040200080_0225/271,668,1437,1922/359,/0/default.jpg'],\n",
       " 'digibok_2015021048027_0453': ['https://www.nb.no/services/image/resolver/URN:NBN:no-nb_digibok_2015021048027_0453/63,428,1926,1736/481,433/0/default.jpg'],\n",
       " 'digibok_2010042706050_0115': ['https://www.nb.no/services/image/resolver/URN:NBN:no-nb_digibok_2010042706050_0115/279,1357,1057,355/1057,355/0/default.jpg'],\n",
       " 'digibok_2010052706064_0074': ['https://www.nb.no/services/image/resolver/URN:NBN:no-nb_digibok_2010052706064_0074/14,10,1024,276/1024,276/0/default.jpg'],\n",
       " 'digibok_2010070706062_0298': ['https://www.nb.no/services/image/resolver/URN:NBN:no-nb_digibok_2010070706062_0298/784,1145,693,1105/346,/0/default.jpg']}"
      ]
     },
     "execution_count": 128,
     "metadata": {},
     "output_type": "execute_result"
    }
   ],
   "source": [
    "search_images_fulltext(\"NEAR(afrikaner)\", 50)"
   ]
  },
  {
   "cell_type": "code",
   "execution_count": 52,
   "id": "a44a6c4d-25ed-4b0b-bd4f-4ca76c54063f",
   "metadata": {},
   "outputs": [],
   "source": [
    "import requests"
   ]
  },
  {
   "cell_type": "code",
   "execution_count": 135,
   "id": "bbf6b610-e79a-468d-a8b1-fd7fadc52a8f",
   "metadata": {},
   "outputs": [],
   "source": [
    "def imgs(text=\"afrikaner\", hits=10):\n",
    "    params = locals()\n",
    "    r = requests.get(f\"http://172.17.0.2:5000/images\", params=params)\n",
    "    return r"
   ]
  },
  {
   "cell_type": "code",
   "execution_count": 137,
   "id": "95f81380-67f5-4be4-b833-3b3e2aacb218",
   "metadata": {},
   "outputs": [],
   "source": [
    "r = imgs()"
   ]
  },
  {
   "cell_type": "code",
   "execution_count": 140,
   "id": "0f223006-7df6-4861-8539-f5902e107e20",
   "metadata": {},
   "outputs": [
    {
     "data": {
      "text/plain": [
       "<Response [200]>"
      ]
     },
     "execution_count": 140,
     "metadata": {},
     "output_type": "execute_result"
    }
   ],
   "source": [
    "r"
   ]
  },
  {
   "cell_type": "code",
   "execution_count": 95,
   "id": "a10063c4-f35b-4172-a095-b1e880375c4f",
   "metadata": {},
   "outputs": [],
   "source": [
    "db = \"../Bildevektor/all_images.db\""
   ]
  },
  {
   "cell_type": "code",
   "execution_count": 96,
   "id": "cdee4467-edfc-4021-8bef-bdbbba2b9ce6",
   "metadata": {},
   "outputs": [],
   "source": [
    "def query(db, sql, params=()):\n",
    "    with sqlite3.connect(db) as con:\n",
    "        r = con.execute(sql, params).fetchall()\n",
    "    return r"
   ]
  },
  {
   "cell_type": "code",
   "execution_count": 97,
   "id": "77cfb763-3247-4864-bc9f-16f34468cfab",
   "metadata": {},
   "outputs": [
    {
     "data": {
      "text/plain": [
       "[('digibok_2012040324001_0004',\n",
       "  \"Som Gaaes ved et MMligt ZEgtestab / Betragtet da Vel-ZEdle og HSyfornemme / Velanseelige Borger og Klcrde-Kr < rmer i den Konaellae Indlod Sig i et fiarligt Mteffad Med Vcl-ZEdle og Dydziirede ' loWfme / Hvis FEgthForeening ved en Hsytidelig BryllupWest i Hoyfornemme Venners N < rrv < kre ! se blev fuldbyrdet M Kwbenhavn den 21 Maji 1754. Ns BRUDGOMMENS BRUDEN , . OpMiZs Ben oa styldjgste WMzchgsn / sry ? 3 hos ' O MaOZs Efttrleverffe . aattl Han da sin Gtand / Hr. Rmdgomt nu forandre , Saa agfer Han da nu til at vandre , < tzaa er Han endelig dog streyet til et Val , Hvori vist lykkelig Han priises sand og stal . Saa Ha « i Dag hjem til sin Voe at hente ^ En Brud , af hyliken mno vente aarltg Rente , - Til Kordcel for sit Huus , til Glade for sit Sind , Saa stor en Vinding der kun sielden tresser lnd . Men sijg , Hr. Brudgom ! har Han da ey kundet finde Den for , ved.hvilken Han ! aa meget ? unde vindel Han , som til Rtsbmandstab fra ungdom op er vandt , Slig , om flig Fordeel Ham ey for i Tanke raMi Jeg om et Land har lcest , hvor Brude stulde kisreS Til Torv i Pomp og Pragt , for der til Mand at ftresf Hvor man dem offentlig for Penge holdte sal , Og med det smukke Kisn saa brugte Klsb og Sal . Var dette brugeligt hos oS , da kunde mange , Som vilde giftes , vel i Hast en Brud erlange ; Men Epsrsmaal , hvorday det vel siden vilde gaae , Om man jllst ey var tient med dm , man kunde saaet Men godt , der handles ey hos os med flige Vahre , Gom til at holdes fal vist ere alt for rare ; Mn Qvittde perlers vard jo meget overgaaer , Naar hun er dydig , from og Husirs Tarv forsiaaer < < < z ) , Dog om et RlKbmattdjkab t Striftens Bog der tales , ( b ) Hvormed m anden Sag os vel for Dyne males End den , her tales om ; men dog kcmd time til At tyde ud paa det , som jeg het sige vil : ( » ) Ordsprog . 31 , v. ( b ) Matth . 14 , v - 45 - 46. « ^\"),\n",
       " ('digibok_2012040324001_0004',\n",
       "  \"Som Gaaes ved et MMligt ZEgtestab / Betragtet da Vel-ZEdle og HSyfornemme / Velanseelige Borger og Klcrde-Kr < rmer i den Konaellae Indlod Sig i et fiarligt Mteffad Med Vcl-ZEdle og Dydziirede ' loWfme / Hvis FEgthForeening ved en Hsytidelig BryllupWest i Hoyfornemme Venners N < rrv < kre ! se blev fuldbyrdet M Kwbenhavn den 21 Maji 1754. Ns BRUDGOMMENS BRUDEN , . OpMiZs Ben oa styldjgste WMzchgsn / sry ? 3 hos ' O MaOZs Efttrleverffe . aattl Han da sin Gtand / Hr. Rmdgomt nu forandre , Saa agfer Han da nu til at vandre , < tzaa er Han endelig dog streyet til et Val , Hvori vist lykkelig Han priises sand og stal . Saa Ha « i Dag hjem til sin Voe at hente ^ En Brud , af hyliken mno vente aarltg Rente , - Til Kordcel for sit Huus , til Glade for sit Sind , Saa stor en Vinding der kun sielden tresser lnd . Men sijg , Hr. Brudgom ! har Han da ey kundet finde Den for , ved.hvilken Han ! aa meget ? unde vindel Han , som til Rtsbmandstab fra ungdom op er vandt , Slig , om flig Fordeel Ham ey for i Tanke raMi Jeg om et Land har lcest , hvor Brude stulde kisreS Til Torv i Pomp og Pragt , for der til Mand at ftresf Hvor man dem offentlig for Penge holdte sal , Og med det smukke Kisn saa brugte Klsb og Sal . Var dette brugeligt hos oS , da kunde mange , Som vilde giftes , vel i Hast en Brud erlange ; Men Epsrsmaal , hvorday det vel siden vilde gaae , Om man jllst ey var tient med dm , man kunde saaet Men godt , der handles ey hos os med flige Vahre , Gom til at holdes fal vist ere alt for rare ; Mn Qvittde perlers vard jo meget overgaaer , Naar hun er dydig , from og Husirs Tarv forsiaaer < < < z ) , Dog om et RlKbmattdjkab t Striftens Bog der tales , ( b ) Hvormed m anden Sag os vel for Dyne males End den , her tales om ; men dog kcmd time til At tyde ud paa det , som jeg het sige vil : ( » ) Ordsprog . 31 , v. ( b ) Matth . 14 , v - 45 - 46. « ^\")]"
      ]
     },
     "execution_count": 97,
     "metadata": {},
     "output_type": "execute_result"
    }
   ],
   "source": [
    "query(db, \"select * from picture_map limit 2\")"
   ]
  },
  {
   "cell_type": "code",
   "execution_count": 106,
   "id": "a8557b67-d76c-4dd3-8e70-7225912fc9c0",
   "metadata": {},
   "outputs": [],
   "source": [
    "with sqlite3.connect(\"pages_to_images.db\") as con:\n",
    "    cur = con.cursor()\n",
    "    cur.execute(\"create virtual table text2image using fts5 (urn, text)\")\n",
    "    cur.execute(f\"attach '{db}' as source\")\n",
    "    cur.execute(\"insert into text2image select * from source.picture_map\")"
   ]
  },
  {
   "cell_type": "code",
   "execution_count": 115,
   "id": "36d0bee7-cb18-4314-b716-17b16164f5f3",
   "metadata": {},
   "outputs": [
    {
     "data": {
      "text/plain": [
       "['URN:NBN:no-nb_digibok_2008040200080_0225',\n",
       " 'URN:NBN:no-nb_digibok_2015021048027_0453',\n",
       " 'URN:NBN:no-nb_digibok_2010042706050_0115',\n",
       " 'URN:NBN:no-nb_digibok_2010052706064_0074',\n",
       " 'URN:NBN:no-nb_digibok_2010070706062_0298']"
      ]
     },
     "execution_count": 115,
     "metadata": {},
     "output_type": "execute_result"
    }
   ],
   "source": [
    "[f'URN:NBN:no-nb_{r[0]}' for r in query(\"pages_to_images.db\", \"select urn from text2image where text match 'afrikaner' order by rank limit 5\")]"
   ]
  },
  {
   "cell_type": "code",
   "execution_count": 85,
   "id": "89b3af79-4a0c-4066-8979-3ed986fff7d5",
   "metadata": {},
   "outputs": [],
   "source": [
    "import sqlite3"
   ]
  },
  {
   "cell_type": "code",
   "execution_count": 88,
   "id": "5989f7ef-ae18-42d1-8183-b7977cebc525",
   "metadata": {},
   "outputs": [],
   "source": [
    "search = \"afrikaner\"\n",
    "dist = \"5\"\n",
    "search = f\"NEAR({search}, {dist})\"\n",
    "resbook = [x[0] for x in query(db, \"select url from page_url where page in (select page from picture_map where text match ? order by rank limit 20) limit 50\", (search,))]\n"
   ]
  },
  {
   "cell_type": "code",
   "execution_count": 89,
   "id": "a6cb3001-d0fb-4fa4-acc2-15595747e968",
   "metadata": {},
   "outputs": [
    {
     "data": {
      "text/plain": [
       "['https://www.nb.no/services/image/resolver/URN:NBN:no-nb_digibok_2008040200080_0225/271,668,1437,1922/359,/0/default.jpg',\n",
       " 'https://www.nb.no/services/image/resolver/URN:NBN:no-nb_digibok_2010042706050_0115/279,1357,1057,355/1057,355/0/default.jpg',\n",
       " 'https://www.nb.no/services/image/resolver/URN:NBN:no-nb_digibok_2010052706064_0074/14,10,1024,276/1024,276/0/default.jpg',\n",
       " 'https://www.nb.no/services/image/resolver/URN:NBN:no-nb_digibok_2010070706062_0298/784,1145,693,1105/346,/0/default.jpg',\n",
       " 'https://www.nb.no/services/image/resolver/URN:NBN:no-nb_digibok_2015021048027_0453/63,428,1926,1736/481,433/0/default.jpg']"
      ]
     },
     "execution_count": 89,
     "metadata": {},
     "output_type": "execute_result"
    }
   ],
   "source": [
    "resbook"
   ]
  },
  {
   "cell_type": "code",
   "execution_count": 151,
   "id": "f722cc92-44fd-471d-ae19-b7a32c2c75ec",
   "metadata": {},
   "outputs": [
    {
     "data": {
      "text/plain": [
       "['https://www.nb.no/services/image/resolver/URN:NBN:no-nb_digibok_2008040200080_0225/271,668,1437,1922/359,/0/default.jpg']"
      ]
     },
     "execution_count": 151,
     "metadata": {},
     "output_type": "execute_result"
    }
   ],
   "source": [
    "qd.find_images_by_identifier(qd.client, 'URN:NBN:no-nb_digibok_2008040200080_0225',collection_name=\"images_1900_cos\", key='urn')"
   ]
  },
  {
   "cell_type": "code",
   "execution_count": 147,
   "id": "a7463802-537c-438a-98de-d85078482377",
   "metadata": {},
   "outputs": [
    {
     "data": {
      "text/plain": [
       "[('https://www.nb.no/services/image/resolver/URN:NBN:no-nb_digibok_2008040200080_0225/271,668,1437,1922/359,/0/default.jpg',\n",
       "  1.0),\n",
       " ('https://www.nb.no/services/image/resolver/URN:NBN:no-nb_digibok_2006112300016_0187/91,418,1524,1515/381,378/0/default.jpg',\n",
       "  0.9283853),\n",
       " ('https://www.nb.no/services/image/resolver/URN:NBN:no-nb_digibok_2011060704042_0483/478,1200,1165,1296/291,/0/default.jpg',\n",
       "  0.9282957),\n",
       " ('https://www.nb.no/services/image/resolver/URN:NBN:no-nb_digibok_2012071305102_0052/317,712,1908,2045/476,/0/default.jpg',\n",
       "  0.91518575),\n",
       " ('https://www.nb.no/services/image/resolver/URN:NBN:no-nb_digibok_2008033104042_0579/307,605,1208,1355/302,/0/default.jpg',\n",
       "  0.90626746),\n",
       " ('https://www.nb.no/services/image/resolver/URN:NBN:no-nb_digibok_2011053104052_0218/442,710,926,1079/463,/0/default.jpg',\n",
       "  0.9017859),\n",
       " ('https://www.nb.no/services/image/resolver/URN:NBN:no-nb_digibok_2006082900112_0081/511,341,919,1034/459,/0/default.jpg',\n",
       "  0.8998874),\n",
       " ('https://www.nb.no/services/image/resolver/URN:NBN:no-nb_digibok_2008040804082_0006/506,769,902,1116/451,/0/default.jpg',\n",
       "  0.8962206),\n",
       " ('https://www.nb.no/services/image/resolver/URN:NBN:no-nb_digibok_2009051213001_0316/391,990,856,965/428,/0/default.jpg',\n",
       "  0.89494157),\n",
       " ('https://www.nb.no/services/image/resolver/URN:NBN:no-nb_digibok_2008040200080_0436/711,1151,989,1186/494,/0/default.jpg',\n",
       "  0.88880783)]"
      ]
     },
     "execution_count": 147,
     "metadata": {},
     "output_type": "execute_result"
    }
   ],
   "source": [
    "qd.find_similar_images(qd.client, 'https://www.nb.no/services/image/resolver/URN:NBN:no-nb_digibok_2008040200080_0225/271,668,1437,1922/359,/0/default.jpg',collection_name=\"images_1900_cos\")"
   ]
  }
 ],
 "metadata": {
  "kernelspec": {
   "display_name": "Python 3 (ipykernel)",
   "language": "python",
   "name": "python3"
  },
  "language_info": {
   "codemirror_mode": {
    "name": "ipython",
    "version": 3
   },
   "file_extension": ".py",
   "mimetype": "text/x-python",
   "name": "python",
   "nbconvert_exporter": "python",
   "pygments_lexer": "ipython3",
   "version": "3.11.5"
  }
 },
 "nbformat": 4,
 "nbformat_minor": 5
}
