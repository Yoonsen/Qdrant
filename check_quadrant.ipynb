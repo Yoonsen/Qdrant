{
 "cells": [
  {
   "cell_type": "code",
   "execution_count": 1,
   "id": "9defb65e-119b-414d-aa84-85f2deadfae5",
   "metadata": {},
   "outputs": [],
   "source": [
    "import pandas as pd\n",
    "import qdrant_access as qd"
   ]
  },
  {
   "cell_type": "code",
   "execution_count": 5,
   "id": "20a28610-13fc-40a0-b161-69372951d858",
   "metadata": {},
   "outputs": [],
   "source": [
    "from importlib import reload"
   ]
  },
  {
   "cell_type": "code",
   "execution_count": 17,
   "id": "d6c4dc7e-b2ff-4efe-b086-3818eba8ab1e",
   "metadata": {},
   "outputs": [
    {
     "data": {
      "text/plain": [
       "<module 'qdrant_access' from '/mnt/disk1/Github/Qdrant/qdrant_access.py'>"
      ]
     },
     "execution_count": 17,
     "metadata": {},
     "output_type": "execute_result"
    }
   ],
   "source": [
    "reload(qd)"
   ]
  },
  {
   "cell_type": "code",
   "execution_count": 3,
   "id": "8e303aef-decb-4a88-85b8-203e18561561",
   "metadata": {},
   "outputs": [
    {
     "data": {
      "text/plain": [
       "['vss_1850_cos',\n",
       " 'vss_dewey_code',\n",
       " 'vss_1800_cos',\n",
       " 'vss_dewey',\n",
       " 'images_1900_cos']"
      ]
     },
     "execution_count": 3,
     "metadata": {},
     "output_type": "execute_result"
    }
   ],
   "source": [
    "qd.show_collections(qd.client)"
   ]
  },
  {
   "cell_type": "code",
   "execution_count": 14,
   "id": "6d89c104-2754-4640-b3fe-b01aca1175b7",
   "metadata": {},
   "outputs": [
    {
     "data": {
      "text/plain": [
       "[('Abel', 1.0),\n",
       " ('Cain', 0.78520876),\n",
       " ('Kain', 0.748604),\n",
       " ('Jakob', 0.7472355),\n",
       " ('Jacob', 0.6769447),\n",
       " ('Isak', 0.6736441),\n",
       " ('Isaak', 0.6702534),\n",
       " ('Eva', 0.6664775),\n",
       " ('Asa', 0.6542754),\n",
       " ('Esan', 0.6500757)]"
      ]
     },
     "execution_count": 14,
     "metadata": {},
     "output_type": "execute_result"
    }
   ],
   "source": [
    "qd.find_similar_words(qd.client, \"Abel\", collection_name=\"vss_1800_cos\")"
   ]
  },
  {
   "cell_type": "code",
   "execution_count": 18,
   "id": "0e28dd86-439e-489f-afb4-7d3999afcd0e",
   "metadata": {},
   "outputs": [
    {
     "data": {
      "text/plain": [
       "[]"
      ]
     },
     "execution_count": 18,
     "metadata": {},
     "output_type": "execute_result"
    }
   ],
   "source": [
    "qd.find_images_by_identifier(qd.client, \"https://www.nb.no/items/0e3edee49f0ad293813b75766c8b0a82?page=0&searchText=wilse\",key='url',collection_name=\"images_1900_cos\")"
   ]
  }
 ],
 "metadata": {
  "kernelspec": {
   "display_name": "Python 3 (ipykernel)",
   "language": "python",
   "name": "python3"
  },
  "language_info": {
   "codemirror_mode": {
    "name": "ipython",
    "version": 3
   },
   "file_extension": ".py",
   "mimetype": "text/x-python",
   "name": "python",
   "nbconvert_exporter": "python",
   "pygments_lexer": "ipython3",
   "version": "3.11.5"
  }
 },
 "nbformat": 4,
 "nbformat_minor": 5
}
