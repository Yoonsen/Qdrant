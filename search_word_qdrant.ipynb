{
 "cells": [
  {
   "cell_type": "code",
   "execution_count": 53,
   "id": "c172fa73-d3d9-47f2-a70e-986646a77d36",
   "metadata": {},
   "outputs": [],
   "source": [
    "from qdrant_client import QdrantClient\n",
    "from qdrant_client.models import PointStruct\n",
    "from qdrant_client.http import models\n",
    "\n",
    "from qdrant_client import QdrantClient\n",
    "from qdrant_client.http.models import Filter, FieldCondition, Range, PointIdsList, SearchParams, Vector\n",
    "\n",
    "import sqlite3\n",
    "import pandas as pd"
   ]
  },
  {
   "cell_type": "code",
   "execution_count": 3,
   "id": "7f173aea-a2a7-4230-a3d8-bdc956566daf",
   "metadata": {},
   "outputs": [],
   "source": [
    "client = QdrantClient(host=\"sprakbankdb1.lx.nb.no\", port=6333)"
   ]
  },
  {
   "cell_type": "code",
   "execution_count": 4,
   "id": "0cad965a-247c-43d1-8195-fbabfbc3d784",
   "metadata": {},
   "outputs": [],
   "source": [
    "import numpy as np"
   ]
  },
  {
   "cell_type": "code",
   "execution_count": 5,
   "id": "62cb62a9-6f63-493b-ae09-374cc32322b2",
   "metadata": {},
   "outputs": [
    {
     "name": "stdout",
     "output_type": "stream",
     "text": [
      "vss_1850_cos\n",
      "vss_dewey_code\n",
      "vss_1800_cos\n",
      "vss_dewey\n",
      "images_1900_cos\n"
     ]
    }
   ],
   "source": [
    "collections = client.http.collections_api.get_collections().result.collections\n",
    "\n",
    "# Print the names of all collections\n",
    "for collection in collections:\n",
    "    print(collection.name)"
   ]
  },
  {
   "cell_type": "code",
   "execution_count": 6,
   "id": "90551784-5ca0-41cd-af19-b770eeeda8c5",
   "metadata": {},
   "outputs": [],
   "source": [
    "collection_name = \"vss_1850_cos\""
   ]
  },
  {
   "cell_type": "code",
   "execution_count": 7,
   "id": "84f3c7bb-f0d4-4613-8123-d0d54219b894",
   "metadata": {},
   "outputs": [],
   "source": [
    "#db = \"../Embeddings/vss_1850.db\""
   ]
  },
  {
   "cell_type": "code",
   "execution_count": 12,
   "id": "bc22a4e7-386c-43b5-9f25-debb912a8854",
   "metadata": {},
   "outputs": [],
   "source": [
    "def query(db, sql, params=()):\n",
    "    with sqlite3.connect(db) as con:\n",
    "        r = con.execute(sql, params).fetchall()\n",
    "    return r"
   ]
  },
  {
   "cell_type": "code",
   "execution_count": 13,
   "id": "8b8cfb15-f629-4c5d-b987-97211e70e224",
   "metadata": {},
   "outputs": [],
   "source": [
    "def convert_vector(binary_vector):\n",
    "    # Assuming binary_vector is a blob from SQLite, convert it to a list\n",
    "    return np.frombuffer(binary_vector, dtype=np.float32).tolist()"
   ]
  },
  {
   "cell_type": "code",
   "execution_count": 36,
   "id": "8f86d3bf-8867-41ab-b102-50cfb5c93701",
   "metadata": {},
   "outputs": [],
   "source": [
    "def search_word(word, n=20):\n",
    "    res = query(db, \"select * from words where word = ?\", (word,))\n",
    "    \n",
    "    query_vector = convert_vector(res[0][1])\n",
    "    \n",
    "    hits = client.search(\n",
    "       collection_name = collection_name,\n",
    "       query_vector = query_vector,\n",
    "       limit = n  # \n",
    "    )\n",
    "    \n",
    "    \n",
    "    return pd.DataFrame([(x.payload['word'], x.score) for x in hits], columns=[\"Word\", \"Score\"])\n",
    "    "
   ]
  },
  {
   "cell_type": "code",
   "execution_count": 37,
   "id": "849cd100-efe1-423f-b842-2923298215b2",
   "metadata": {},
   "outputs": [
    {
     "data": {
      "text/html": [
       "<div>\n",
       "<style scoped>\n",
       "    .dataframe tbody tr th:only-of-type {\n",
       "        vertical-align: middle;\n",
       "    }\n",
       "\n",
       "    .dataframe tbody tr th {\n",
       "        vertical-align: top;\n",
       "    }\n",
       "\n",
       "    .dataframe thead th {\n",
       "        text-align: right;\n",
       "    }\n",
       "</style>\n",
       "<table border=\"1\" class=\"dataframe\">\n",
       "  <thead>\n",
       "    <tr style=\"text-align: right;\">\n",
       "      <th></th>\n",
       "      <th>Word</th>\n",
       "      <th>Score</th>\n",
       "    </tr>\n",
       "  </thead>\n",
       "  <tbody>\n",
       "    <tr>\n",
       "      <th>0</th>\n",
       "      <td>Eskimoerne</td>\n",
       "      <td>1.000000</td>\n",
       "    </tr>\n",
       "    <tr>\n",
       "      <th>1</th>\n",
       "      <td>Kafferne</td>\n",
       "      <td>0.860801</td>\n",
       "    </tr>\n",
       "    <tr>\n",
       "      <th>2</th>\n",
       "      <td>Negerne</td>\n",
       "      <td>0.846766</td>\n",
       "    </tr>\n",
       "    <tr>\n",
       "      <th>3</th>\n",
       "      <td>Grønlænderne</td>\n",
       "      <td>0.838771</td>\n",
       "    </tr>\n",
       "    <tr>\n",
       "      <th>4</th>\n",
       "      <td>Hottentotterne</td>\n",
       "      <td>0.827435</td>\n",
       "    </tr>\n",
       "    <tr>\n",
       "      <th>5</th>\n",
       "      <td>Indianerne</td>\n",
       "      <td>0.822096</td>\n",
       "    </tr>\n",
       "    <tr>\n",
       "      <th>6</th>\n",
       "      <td>Europæerne</td>\n",
       "      <td>0.819458</td>\n",
       "    </tr>\n",
       "    <tr>\n",
       "      <th>7</th>\n",
       "      <td>Malayerne</td>\n",
       "      <td>0.814286</td>\n",
       "    </tr>\n",
       "  </tbody>\n",
       "</table>\n",
       "</div>"
      ],
      "text/plain": [
       "             Word     Score\n",
       "0      Eskimoerne  1.000000\n",
       "1        Kafferne  0.860801\n",
       "2         Negerne  0.846766\n",
       "3    Grønlænderne  0.838771\n",
       "4  Hottentotterne  0.827435\n",
       "5      Indianerne  0.822096\n",
       "6      Europæerne  0.819458\n",
       "7       Malayerne  0.814286"
      ]
     },
     "execution_count": 37,
     "metadata": {},
     "output_type": "execute_result"
    }
   ],
   "source": [
    "search_word('Eskimoerne', 8)"
   ]
  },
  {
   "cell_type": "code",
   "execution_count": 24,
   "id": "f4e0f651-d9a9-4e8d-a90c-88e7def1d587",
   "metadata": {},
   "outputs": [
    {
     "name": "stdout",
     "output_type": "stream",
     "text": [
      "Total points in collection 'vss_1850_cos': 2168213\n"
     ]
    }
   ],
   "source": [
    "try:\n",
    "    count_response = client.count(collection_name=collection_name)\n",
    "    total_points = count_response.count\n",
    "    print(f\"Total points in collection '{collection_name}': {total_points}\")\n",
    "except Exception as e:\n",
    "    print(f\"An error occurred: {e}\")"
   ]
  },
  {
   "cell_type": "code",
   "execution_count": 54,
   "id": "8b106a58-0f04-429d-af52-c92b16d98d63",
   "metadata": {},
   "outputs": [],
   "source": [
    "# The word you're searching for\n",
    "search_word = 'Eskimoerne'\n",
    "\n",
    "def search_word(client, search_word, limit=10):\n",
    "    \"\"\"Search a word using a client\"\"\"\n",
    "    \n",
    "   \n",
    "    response = client.scroll(\n",
    "    \n",
    "        scroll_filter=models.Filter(\n",
    "            must=[\n",
    "                models.FieldCondition(key=\"word\", match=models.MatchValue(value=search_word)),\n",
    "            ]\n",
    "        ),\n",
    "        limit=1,\n",
    "        with_payload=True,\n",
    "        with_vectors=True,\n",
    "    \n",
    "        collection_name=collection_name,\n",
    "        \n",
    "    )\n",
    "    r = response[0][0]\n",
    "    #print(r)\n",
    "    # Check if the word exists in the collection and fetch its vector\n",
    "    if r:\n",
    "        word_vector = r.vector\n",
    "    \n",
    "        # Step 2: Perform a similarity search with the fetched vector\n",
    "        similar_words_response = client.search(\n",
    "            collection_name=collection_name,\n",
    "            query_vector=word_vector,\n",
    "            #search_params=SearchParams(k=10),  # Adjust 'k' to change the number of similar words to find\n",
    "            limit=limit  # Adjust limit to change the number of results returned\n",
    "        )\n",
    "    \n",
    "        # Print the similar words found\n",
    "        #print(similar_words_response)\n",
    "        \n",
    "        \n",
    "        result = [(hit.payload['word'], hit.score) for hit in similar_words_response]\n",
    "    else:\n",
    "        result = []\n",
    "    return result"
   ]
  },
  {
   "cell_type": "code",
   "execution_count": 56,
   "id": "15a288fb-f607-4c0d-a7a4-eddf486f693a",
   "metadata": {},
   "outputs": [
    {
     "data": {
      "text/plain": [
       "[('Demokrati', 1.0000001),\n",
       " ('Bureaukrati', 0.89253783),\n",
       " ('Aristokrati', 0.834911),\n",
       " ('Hierarchi', 0.81994385),\n",
       " ('Despoti', 0.8033606),\n",
       " ('Monarki', 0.79690707),\n",
       " ('Hierarki', 0.79461986),\n",
       " ('Regjeringssystem', 0.7841758),\n",
       " ('Enevælde', 0.78321457),\n",
       " ('Styrelsessæt', 0.7818777),\n",
       " ('Monarchi', 0.77367705),\n",
       " ('Statssamfund', 0.7695782),\n",
       " ('Aristokratie', 0.7672338),\n",
       " ('Overhus', 0.7671656),\n",
       " ('demokrati', 0.76078975),\n",
       " ('Kastevæsen', 0.76034355),\n",
       " ('Statsvæsen', 0.75871664),\n",
       " ('Flertalsstyre', 0.7576455),\n",
       " ('Retsbegreb', 0.75659114),\n",
       " ('Selvstyre', 0.75143546),\n",
       " ('Hedenskab', 0.75054014),\n",
       " ('Pavedømme', 0.74890924),\n",
       " ('Statsliv', 0.7487499),\n",
       " ('Dogme', 0.74860376),\n",
       " ('Theokrati', 0.7463454),\n",
       " ('Frimureri', 0.7401727),\n",
       " ('Gudsbegreb', 0.7390011),\n",
       " ('Statssystem', 0.7362392),\n",
       " ('Regeringssystem', 0.7347422),\n",
       " ('Oligarchi', 0.7336982)]"
      ]
     },
     "execution_count": 56,
     "metadata": {},
     "output_type": "execute_result"
    }
   ],
   "source": [
    "search_word(client, \"Demokrati\", limit=30)"
   ]
  },
  {
   "cell_type": "code",
   "execution_count": null,
   "id": "306c061d-9e38-487e-9d33-5f5a0df36d2f",
   "metadata": {},
   "outputs": [],
   "source": []
  }
 ],
 "metadata": {
  "kernelspec": {
   "display_name": "Python 3 (ipykernel)",
   "language": "python",
   "name": "python3"
  },
  "language_info": {
   "codemirror_mode": {
    "name": "ipython",
    "version": 3
   },
   "file_extension": ".py",
   "mimetype": "text/x-python",
   "name": "python",
   "nbconvert_exporter": "python",
   "pygments_lexer": "ipython3",
   "version": "3.11.5"
  }
 },
 "nbformat": 4,
 "nbformat_minor": 5
}
