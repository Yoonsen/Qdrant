{
 "cells": [
  {
   "cell_type": "code",
   "execution_count": 1,
   "id": "8a5eabb7-6182-466d-928b-0dbaa9ae97d7",
   "metadata": {},
   "outputs": [],
   "source": [
    "from qdrant_client import QdrantClient\n",
    "from qdrant_client.models import PointStruct\n",
    "from qdrant_client.http import models\n",
    "\n",
    "from qdrant_client import QdrantClient\n",
    "from qdrant_client.http.models import CollectionDescription, VectorParams, Distance\n",
    "import sqlite3\n",
    "client = QdrantClient(host=\"sprakbankdb1.lx.nb.no\", port=6333)\n"
   ]
  },
  {
   "cell_type": "code",
   "execution_count": 2,
   "id": "0cad965a-247c-43d1-8195-fbabfbc3d784",
   "metadata": {},
   "outputs": [],
   "source": [
    "import numpy as np"
   ]
  },
  {
   "cell_type": "code",
   "execution_count": 33,
   "id": "90551784-5ca0-41cd-af19-b770eeeda8c5",
   "metadata": {},
   "outputs": [],
   "source": [
    "collection_name = \"images_1900_cos\""
   ]
  },
  {
   "cell_type": "code",
   "execution_count": 34,
   "id": "84f3c7bb-f0d4-4613-8123-d0d54219b894",
   "metadata": {},
   "outputs": [],
   "source": [
    "db = \"../Bildevektor/all_images.db\""
   ]
  },
  {
   "cell_type": "code",
   "execution_count": 11,
   "id": "bc22a4e7-386c-43b5-9f25-debb912a8854",
   "metadata": {},
   "outputs": [],
   "source": [
    "def query(db, sql, params=()):\n",
    "    with sqlite3.connect(db) as con:\n",
    "        r = con.execute(sql, params).fetchall()\n",
    "    return r"
   ]
  },
  {
   "cell_type": "code",
   "execution_count": 12,
   "id": "8b8cfb15-f629-4c5d-b987-97211e70e224",
   "metadata": {},
   "outputs": [],
   "source": [
    "\n",
    "def convert_vector(binary_vector):\n",
    "    # Assuming binary_vector is a blob from SQLite, convert it to a list\n",
    "    return np.frombuffer(binary_vector, dtype=np.float32).tolist()"
   ]
  },
  {
   "cell_type": "code",
   "execution_count": 48,
   "id": "29c8363d-345f-41c4-a6ef-98f117b5a02b",
   "metadata": {},
   "outputs": [
    {
     "name": "stdout",
     "output_type": "stream",
     "text": [
      "https://www.nb.no/services/image/resolver/URN:NBN:no-nb_digibok_2014020708063_0006/89,299,1767,918/883,458/0/default.jpg 0.99999994\n",
      "https://www.nb.no/services/image/resolver/URN:NBN:no-nb_digibok_2009031803003_0008/351,190,1601,1521/399,379/0/default.jpg 0.94796836\n",
      "https://www.nb.no/services/image/resolver/URN:NBN:no-nb_digibok_2014041524003_0434/138,112,1589,512/1589,512/0/default.jpg 0.9475299\n",
      "https://www.nb.no/services/image/resolver/URN:NBN:no-nb_digibok_2012031308048_0004/0,77,1744,3399/435,/0/default.jpg 0.94539577\n",
      "https://www.nb.no/services/image/resolver/URN:NBN:no-nb_digibok_2016060908035_0074/0,1006,1674,993/837,496/0/default.jpg 0.94227535\n",
      "https://www.nb.no/services/image/resolver/URN:NBN:no-nb_digibok_2012091905039_0032/87,105,3504,913/1752,456/0/default.jpg 0.94211876\n",
      "https://www.nb.no/services/image/resolver/URN:NBN:no-nb_digibok_2014112008069_0492/0,295,1788,948/894,473/0/default.jpg 0.9414088\n",
      "https://www.nb.no/services/image/resolver/URN:NBN:no-nb_digibok_2014051408209_0002/185,267,1633,2686/408,/0/default.jpg 0.9409762\n",
      "https://www.nb.no/services/image/resolver/URN:NBN:no-nb_digibok_2012042608037_0002/0,0,1132,2666/282,/0/default.jpg 0.9405357\n",
      "https://www.nb.no/services/image/resolver/URN:NBN:no-nb_digibok_2012081024003_0205/230,115,1430,1785/357,/0/default.jpg 0.9402162\n",
      "https://www.nb.no/services/image/resolver/URN:NBN:no-nb_digibok_2009031803014_0002/0,27,1076,2632/269,/0/default.jpg 0.93891054\n",
      "https://www.nb.no/services/image/resolver/URN:NBN:no-nb_digibok_2013110508030_0222/79,115,1854,2866/463,/0/default.jpg 0.9374509\n",
      "https://www.nb.no/services/image/resolver/URN:NBN:no-nb_digibok_2012090708296_0162/833,348,1705,4342/425,/0/default.jpg 0.93725884\n",
      "https://www.nb.no/services/image/resolver/URN:NBN:no-nb_digibok_2012080124007_0219/59,77,1605,784/802,392/0/default.jpg 0.9372153\n",
      "https://www.nb.no/services/image/resolver/URN:NBN:no-nb_digibok_2013042608074_0390/0,70,1765,977/882,488/0/default.jpg 0.93615717\n",
      "https://www.nb.no/services/image/resolver/URN:NBN:no-nb_digibok_2014060408175_0179/106,1952,1300,606/650,303/0/default.jpg 0.93596554\n",
      "https://www.nb.no/services/image/resolver/URN:NBN:no-nb_digibok_2008042410009_0002/161,31,1736,3151/434,/0/default.jpg 0.935745\n",
      "https://www.nb.no/services/image/resolver/URN:NBN:no-nb_digibok_2012041608162_0040/466,0,1122,2544/280,/0/default.jpg 0.9351329\n",
      "https://www.nb.no/services/image/resolver/URN:NBN:no-nb_digibok_2012041308000_0220/21,21,1032,2667/257,/0/default.jpg 0.93434584\n",
      "https://www.nb.no/services/image/resolver/URN:NBN:no-nb_digibok_2014032408164_0006/0,1488,1858,988/929,493/0/default.jpg 0.93389285\n"
     ]
    }
   ],
   "source": [
    "res = query(db, \"select * from metadata order by random() limit 1 \")\n",
    "\n",
    "query_vector = convert_vector(res[0][2])\n",
    "\n",
    "hits = client.search(\n",
    "   collection_name = collection_name,\n",
    "   query_vector = query_vector,\n",
    "   limit = 20  # \n",
    ")\n",
    "\n",
    "for x in hits:\n",
    "    print(x.payload['url'], x.score)\n",
    "    "
   ]
  },
  {
   "cell_type": "code",
   "execution_count": 41,
   "id": "f4e0f651-d9a9-4e8d-a90c-88e7def1d587",
   "metadata": {},
   "outputs": [
    {
     "name": "stdout",
     "output_type": "stream",
     "text": [
      "Total points in collection 'images_1900_cos': 422589\n"
     ]
    }
   ],
   "source": [
    "try:\n",
    "    count_response = client.count(collection_name=collection_name)\n",
    "    total_points = count_response.count\n",
    "    print(f\"Total points in collection '{collection_name}': {total_points}\")\n",
    "except Exception as e:\n",
    "    print(f\"An error occurred: {e}\")"
   ]
  },
  {
   "cell_type": "code",
   "execution_count": null,
   "id": "8b106a58-0f04-429d-af52-c92b16d98d63",
   "metadata": {},
   "outputs": [],
   "source": []
  }
 ],
 "metadata": {
  "kernelspec": {
   "display_name": "Python 3 (ipykernel)",
   "language": "python",
   "name": "python3"
  },
  "language_info": {
   "codemirror_mode": {
    "name": "ipython",
    "version": 3
   },
   "file_extension": ".py",
   "mimetype": "text/x-python",
   "name": "python",
   "nbconvert_exporter": "python",
   "pygments_lexer": "ipython3",
   "version": "3.11.5"
  }
 },
 "nbformat": 4,
 "nbformat_minor": 5
}
