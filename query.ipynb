{
 "cells": [
  {
   "cell_type": "code",
   "execution_count": 1,
   "id": "8a5eabb7-6182-466d-928b-0dbaa9ae97d7",
   "metadata": {},
   "outputs": [],
   "source": [
    "from qdrant_client import QdrantClient\n",
    "from qdrant_client.models import PointStruct\n",
    "from qdrant_client.http import models\n",
    "\n",
    "from qdrant_client import QdrantClient\n",
    "from qdrant_client.http.models import CollectionDescription, VectorParams, Distance\n",
    "import sqlite3\n",
    "\n",
    "client = QdrantClient(host=\"sprakbankdb1.lx.nb.no\", port=6333)\n"
   ]
  },
  {
   "cell_type": "code",
   "execution_count": 49,
   "id": "b15650a6-c519-4bff-8cb4-e02f21058749",
   "metadata": {},
   "outputs": [],
   "source": [
    "import re\n",
    "from IPython.display import HTML\n",
    "\n",
    "def display_finds(r, num_rows, num_columns, width=500):\n",
    "    \"\"\"A list of urls in r is displayed in a grid layout with specified number of rows and columns.\"\"\"\n",
    "    base = \"https://www.nb.no/items/\"\n",
    "    # Initialize the rows list which will contain HTML string for each row\n",
    "    rows_html = []\n",
    "    # Calculate total number of items to display, based on the specified rows and columns\n",
    "    total_items = num_rows * num_columns\n",
    "    # Ensure we don't try to display more items than we have\n",
    "    r = r[:total_items]\n",
    "    \n",
    "    # Split the list into rows with the specified number of columns\n",
    "    for row_start in range(0, len(r), num_columns):\n",
    "        row_items = r[row_start:row_start+num_columns]\n",
    "        # For each row, create a list of cell HTML strings\n",
    "        cells_html = []\n",
    "        for i, item in enumerate(row_items):\n",
    "            urnstring = re.findall(\"URN[^/]*\", item)[0]\n",
    "            prefix, doctyp, urn, page = urnstring.split('_')\n",
    "            cell_html = f\"<td><a href='{base}{prefix}_{doctyp}_{urn}?page={int(page) + 1}' target='_'><img src='{item}' width={width}></a>{row_start+i}</td>\"\n",
    "            cells_html.append(cell_html)\n",
    "        # Join the cell HTML strings into a row and add it to the rows list\n",
    "        rows_html.append(f\"<tr>{' '.join(cells_html)}</tr>\")\n",
    "\n",
    "    # Join all rows into the final HTML table\n",
    "    html_table = f\"<table>{' '.join(rows_html)}</table>\"\n",
    "    return HTML(f\"\"\"<html><head></head><body>{html_table}</body></html>\"\"\")\n"
   ]
  },
  {
   "cell_type": "code",
   "execution_count": 2,
   "id": "0cad965a-247c-43d1-8195-fbabfbc3d784",
   "metadata": {},
   "outputs": [],
   "source": [
    "import numpy as np"
   ]
  },
  {
   "cell_type": "code",
   "execution_count": 33,
   "id": "90551784-5ca0-41cd-af19-b770eeeda8c5",
   "metadata": {},
   "outputs": [],
   "source": [
    "collection_name = \"images_1900_cos\""
   ]
  },
  {
   "cell_type": "code",
   "execution_count": 34,
   "id": "84f3c7bb-f0d4-4613-8123-d0d54219b894",
   "metadata": {},
   "outputs": [],
   "source": [
    "db = \"../Bildevektor/all_images.db\""
   ]
  },
  {
   "cell_type": "code",
   "execution_count": 11,
   "id": "bc22a4e7-386c-43b5-9f25-debb912a8854",
   "metadata": {},
   "outputs": [],
   "source": [
    "def query(db, sql, params=()):\n",
    "    with sqlite3.connect(db) as con:\n",
    "        r = con.execute(sql, params).fetchall()\n",
    "    return r"
   ]
  },
  {
   "cell_type": "code",
   "execution_count": 12,
   "id": "8b8cfb15-f629-4c5d-b987-97211e70e224",
   "metadata": {},
   "outputs": [],
   "source": [
    "\n",
    "def convert_vector(binary_vector):\n",
    "    # Assuming binary_vector is a blob from SQLite, convert it to a list\n",
    "    return np.frombuffer(binary_vector, dtype=np.float32).tolist()"
   ]
  },
  {
   "cell_type": "code",
   "execution_count": null,
   "id": "a5ea24f4-ae37-4f0d-91ff-4ec313ec6092",
   "metadata": {},
   "outputs": [],
   "source": [
    "res = query(db, \"select * from metadata order by random() limit 1 \")"
   ]
  },
  {
   "cell_type": "code",
   "execution_count": 65,
   "id": "3d68111b-e91d-40ac-bfcd-83accc91a330",
   "metadata": {},
   "outputs": [],
   "source": [
    "import re\n",
    "\n",
    "# Example strings\n",
    "urls = [\n",
    "    \"https://www.nb.no/items/c04cb4454b7a9e615c68f6c50fc3dab4?page=0\",\n",
    "    \"https://urn.nb.no/URN:NBN:no-nb_digifoto_AE0000025292_0053_F_01\"\n",
    "]\n",
    "\n",
    "# Regex pattern\n",
    "\n",
    "def fetch_iif(url):\n",
    "    pattern = r\"([a-fA-F0-9]{32})|(URN:[^?&\\s]+)\"\n",
    "    matches = re.findall(pattern, url)\n",
    "    match = \"\"\n",
    "    if matches != []:\n",
    "        match = matches[0]\n",
    "    return match\n"
   ]
  },
  {
   "cell_type": "code",
   "execution_count": null,
   "id": "ffbe7f9e-31e2-4a1e-95b7-844236929017",
   "metadata": {},
   "outputs": [],
   "source": [
    "query_vector = convert_vector(res[0][2])\n",
    "\n",
    "hits = client.search(\n",
    "   collection_name = collection_name,\n",
    "   query_vector = query_vector,\n",
    "   limit = 20  # \n",
    ")\n",
    "\n",
    "display_finds([x.payload['url'] for x in hits], 10, 4)"
   ]
  },
  {
   "cell_type": "code",
   "execution_count": null,
   "id": "86f182cc-6563-417f-b8f5-da3296821ca5",
   "metadata": {},
   "outputs": [],
   "source": [
    "for x in hits:\n",
    "    print(x.payload['url'], x.score)\n",
    "    "
   ]
  },
  {
   "cell_type": "code",
   "execution_count": 41,
   "id": "f4e0f651-d9a9-4e8d-a90c-88e7def1d587",
   "metadata": {},
   "outputs": [
    {
     "name": "stdout",
     "output_type": "stream",
     "text": [
      "Total points in collection 'images_1900_cos': 422589\n"
     ]
    }
   ],
   "source": [
    "try:\n",
    "    count_response = client.count(collection_name=collection_name)\n",
    "    total_points = count_response.count\n",
    "    print(f\"Total points in collection '{collection_name}': {total_points}\")\n",
    "except Exception as e:\n",
    "    print(f\"An error occurred: {e}\")"
   ]
  },
  {
   "cell_type": "code",
   "execution_count": 1,
   "id": "8b106a58-0f04-429d-af52-c92b16d98d63",
   "metadata": {},
   "outputs": [
    {
     "ename": "NameError",
     "evalue": "name 'client' is not defined",
     "output_type": "error",
     "traceback": [
      "\u001b[0;31m---------------------------------------------------------------------------\u001b[0m",
      "\u001b[0;31mNameError\u001b[0m                                 Traceback (most recent call last)",
      "Cell \u001b[0;32mIn[1], line 1\u001b[0m\n\u001b[0;32m----> 1\u001b[0m collections \u001b[38;5;241m=\u001b[39m client\u001b[38;5;241m.\u001b[39mlist_collections()\n\u001b[1;32m      3\u001b[0m \u001b[38;5;66;03m# Print the names of the collections\u001b[39;00m\n\u001b[1;32m      4\u001b[0m \u001b[38;5;28;01mfor\u001b[39;00m collection \u001b[38;5;129;01min\u001b[39;00m collections\u001b[38;5;241m.\u001b[39mresult\u001b[38;5;241m.\u001b[39mcollections:\n",
      "\u001b[0;31mNameError\u001b[0m: name 'client' is not defined"
     ]
    }
   ],
   "source": [
    "collections = client.list_collections()\n",
    "\n",
    "# Print the names of the collections\n",
    "for collection in collections.result.collections:\n",
    "    print(collection.name)"
   ]
  }
 ],
 "metadata": {
  "kernelspec": {
   "display_name": "Python 3 (ipykernel)",
   "language": "python",
   "name": "python3"
  },
  "language_info": {
   "codemirror_mode": {
    "name": "ipython",
    "version": 3
   },
   "file_extension": ".py",
   "mimetype": "text/x-python",
   "name": "python",
   "nbconvert_exporter": "python",
   "pygments_lexer": "ipython3",
   "version": "3.11.5"
  }
 },
 "nbformat": 4,
 "nbformat_minor": 5
}
