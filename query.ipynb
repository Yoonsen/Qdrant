{
 "cells": [
  {
   "cell_type": "code",
   "execution_count": 2,
   "id": "8a5eabb7-6182-466d-928b-0dbaa9ae97d7",
   "metadata": {},
   "outputs": [],
   "source": [
    "from qdrant_client import QdrantClient\n",
    "from qdrant_client.models import PointStruct\n",
    "from qdrant_client.http import models\n",
    "\n",
    "from qdrant_client import QdrantClient\n",
    "from qdrant_client.http.models import CollectionDescription, VectorParams, Distance\n",
    "import sqlite3\n",
    "client = QdrantClient(host=\"sprakbankdb1.lx.nb.no\", port=6333)\n"
   ]
  },
  {
   "cell_type": "code",
   "execution_count": 13,
   "id": "0cad965a-247c-43d1-8195-fbabfbc3d784",
   "metadata": {},
   "outputs": [],
   "source": [
    "import numpy as np"
   ]
  },
  {
   "cell_type": "code",
   "execution_count": 33,
   "id": "90551784-5ca0-41cd-af19-b770eeeda8c5",
   "metadata": {},
   "outputs": [],
   "source": [
    "collection_name = \"vss_1850_cos\""
   ]
  },
  {
   "cell_type": "code",
   "execution_count": 32,
   "id": "84f3c7bb-f0d4-4613-8123-d0d54219b894",
   "metadata": {},
   "outputs": [],
   "source": [
    "db = \"../Embeddings/vss_1850.db\""
   ]
  },
  {
   "cell_type": "code",
   "execution_count": 3,
   "id": "bc22a4e7-386c-43b5-9f25-debb912a8854",
   "metadata": {},
   "outputs": [],
   "source": [
    "def query(db, sql, params=()):\n",
    "    with sqlite3.connect(db) as con:\n",
    "        r = con.execute(sql, params).fetchall()\n",
    "    return r"
   ]
  },
  {
   "cell_type": "code",
   "execution_count": 10,
   "id": "8b8cfb15-f629-4c5d-b987-97211e70e224",
   "metadata": {},
   "outputs": [],
   "source": [
    "\n",
    "def convert_vector(binary_vector):\n",
    "    # Assuming binary_vector is a blob from SQLite, convert it to a list\n",
    "    return np.frombuffer(binary_vector, dtype=np.float32).tolist()"
   ]
  },
  {
   "cell_type": "code",
   "execution_count": 68,
   "id": "29c8363d-345f-41c4-a6ef-98f117b5a02b",
   "metadata": {},
   "outputs": [
    {
     "name": "stdout",
     "output_type": "stream",
     "text": [
      "Stadion 1.0\n",
      "Schlick 0.77686065\n",
      "Taxis 0.7519788\n",
      "Thurn 0.745286\n",
      "Overstaldmester 0.7417013\n",
      "Wittgenstein 0.741445\n",
      "Hohenlohe 0.73181033\n",
      "Truchsess 0.7316167\n",
      "Beust 0.7314053\n",
      "Piccolomini 0.72863364\n",
      "Soltikow 0.7273422\n",
      "Antoniello 0.72576535\n",
      "Altenstein 0.7250618\n",
      "Galitzin 0.724588\n",
      "Königsmark 0.7245572\n",
      "Waldstein 0.7226002\n",
      "Kniphausen 0.7213417\n",
      "Wessenberg 0.72070366\n",
      "Andrassy 0.71949124\n",
      "Brunnow 0.71804744\n"
     ]
    }
   ],
   "source": [
    "res = query(db, \"select * from words where word = 'Stadion' \")\n",
    "\n",
    "query_vector = convert_vector(res[0][1])\n",
    "\n",
    "hits = client.search(\n",
    "   collection_name = collection_name,\n",
    "   query_vector = query_vector,\n",
    "   limit = 20  # Return 5 closest points\n",
    ")\n",
    "\n",
    "for x in hits:\n",
    "    print(x.payload['word'], x.score)\n",
    "    "
   ]
  },
  {
   "cell_type": "code",
   "execution_count": 64,
   "id": "f4e0f651-d9a9-4e8d-a90c-88e7def1d587",
   "metadata": {},
   "outputs": [
    {
     "name": "stdout",
     "output_type": "stream",
     "text": [
      "Total points in collection 'vss_1850_cos': 2168213\n"
     ]
    }
   ],
   "source": [
    "try:\n",
    "    count_response = client.count(collection_name=collection_name)\n",
    "    total_points = count_response.count\n",
    "    print(f\"Total points in collection '{collection_name}': {total_points}\")\n",
    "except Exception as e:\n",
    "    print(f\"An error occurred: {e}\")"
   ]
  },
  {
   "cell_type": "code",
   "execution_count": null,
   "id": "8b106a58-0f04-429d-af52-c92b16d98d63",
   "metadata": {},
   "outputs": [],
   "source": []
  }
 ],
 "metadata": {
  "kernelspec": {
   "display_name": "Python 3 (ipykernel)",
   "language": "python",
   "name": "python3"
  },
  "language_info": {
   "codemirror_mode": {
    "name": "ipython",
    "version": 3
   },
   "file_extension": ".py",
   "mimetype": "text/x-python",
   "name": "python",
   "nbconvert_exporter": "python",
   "pygments_lexer": "ipython3",
   "version": "3.11.5"
  }
 },
 "nbformat": 4,
 "nbformat_minor": 5
}
